{
 "cells": [
  {
   "cell_type": "code",
   "execution_count": 1,
   "metadata": {},
   "outputs": [],
   "source": [
    "import pandas as pd"
   ]
  },
  {
   "cell_type": "code",
   "execution_count": 2,
   "metadata": {},
   "outputs": [],
   "source": [
    "df_feb = pd.read_csv('datasets/JC-202402-citibike-tripdata.csv')"
   ]
  },
  {
   "cell_type": "code",
   "execution_count": 3,
   "metadata": {},
   "outputs": [],
   "source": [
    "df_feb['started_at'] = pd.to_datetime(df_feb['started_at'])"
   ]
  },
  {
   "cell_type": "code",
   "execution_count": 4,
   "metadata": {},
   "outputs": [
    {
     "data": {
      "text/plain": [
       "Timestamp('2024-02-01 00:01:24')"
      ]
     },
     "execution_count": 4,
     "metadata": {},
     "output_type": "execute_result"
    }
   ],
   "source": [
    "df_feb['started_at'].min()"
   ]
  },
  {
   "cell_type": "code",
   "execution_count": 5,
   "metadata": {},
   "outputs": [],
   "source": [
    "df_mar = pd.read_csv('datasets/JC-202403-citibike-tripdata.csv')\n",
    "df_apr = pd.read_csv('datasets/JC-202404-citibike-tripdata.csv')"
   ]
  },
  {
   "cell_type": "code",
   "execution_count": 6,
   "metadata": {},
   "outputs": [],
   "source": [
    "df_mar['started_at'] = pd.to_datetime(df_mar['started_at'])\n",
    "df_apr['started_at'] = pd.to_datetime(df_apr['started_at'])"
   ]
  },
  {
   "cell_type": "code",
   "execution_count": 7,
   "metadata": {},
   "outputs": [
    {
     "data": {
      "text/plain": [
       "Timestamp('2024-03-01 00:01:39')"
      ]
     },
     "execution_count": 7,
     "metadata": {},
     "output_type": "execute_result"
    }
   ],
   "source": [
    "df_mar['started_at'].min()"
   ]
  },
  {
   "cell_type": "code",
   "execution_count": 8,
   "metadata": {},
   "outputs": [
    {
     "data": {
      "text/plain": [
       "Timestamp('2024-04-01 00:01:25')"
      ]
     },
     "execution_count": 8,
     "metadata": {},
     "output_type": "execute_result"
    }
   ],
   "source": [
    "df_apr['started_at'].min()"
   ]
  },
  {
   "cell_type": "code",
   "execution_count": 9,
   "metadata": {},
   "outputs": [
    {
     "name": "stdout",
     "output_type": "stream",
     "text": [
      "<class 'pandas.core.frame.DataFrame'>\n",
      "RangeIndex: 55613 entries, 0 to 55612\n",
      "Data columns (total 13 columns):\n",
      " #   Column              Non-Null Count  Dtype         \n",
      "---  ------              --------------  -----         \n",
      " 0   ride_id             55613 non-null  object        \n",
      " 1   rideable_type       55613 non-null  object        \n",
      " 2   started_at          55613 non-null  datetime64[ns]\n",
      " 3   ended_at            55613 non-null  object        \n",
      " 4   start_station_name  55607 non-null  object        \n",
      " 5   start_station_id    55607 non-null  object        \n",
      " 6   end_station_name    55484 non-null  object        \n",
      " 7   end_station_id      55484 non-null  object        \n",
      " 8   start_lat           55613 non-null  float64       \n",
      " 9   start_lng           55613 non-null  float64       \n",
      " 10  end_lat             55597 non-null  float64       \n",
      " 11  end_lng             55597 non-null  float64       \n",
      " 12  member_casual       55613 non-null  object        \n",
      "dtypes: datetime64[ns](1), float64(4), object(8)\n",
      "memory usage: 5.5+ MB\n"
     ]
    }
   ],
   "source": [
    "df_feb.info()"
   ]
  },
  {
   "cell_type": "code",
   "execution_count": 10,
   "metadata": {},
   "outputs": [
    {
     "data": {
      "text/plain": [
       "array([ True,  True,  True,  True,  True,  True,  True,  True,  True,\n",
       "        True,  True,  True,  True])"
      ]
     },
     "execution_count": 10,
     "metadata": {},
     "output_type": "execute_result"
    }
   ],
   "source": [
    "df_feb.columns == df_mar.columns"
   ]
  },
  {
   "cell_type": "code",
   "execution_count": 11,
   "metadata": {},
   "outputs": [
    {
     "data": {
      "text/plain": [
       "array([ True,  True,  True,  True,  True,  True,  True,  True,  True,\n",
       "        True,  True,  True,  True])"
      ]
     },
     "execution_count": 11,
     "metadata": {},
     "output_type": "execute_result"
    }
   ],
   "source": [
    "df_feb.columns == df_apr.columns"
   ]
  },
  {
   "cell_type": "code",
   "execution_count": 12,
   "metadata": {},
   "outputs": [],
   "source": [
    "df = pd.concat([df_feb, df_mar, df_apr], axis=0, ignore_index=True)"
   ]
  },
  {
   "cell_type": "code",
   "execution_count": 13,
   "metadata": {},
   "outputs": [
    {
     "data": {
      "text/plain": [
       "Timestamp('2024-02-01 00:01:24')"
      ]
     },
     "execution_count": 13,
     "metadata": {},
     "output_type": "execute_result"
    }
   ],
   "source": [
    "df['started_at'].min()"
   ]
  },
  {
   "cell_type": "code",
   "execution_count": 14,
   "metadata": {},
   "outputs": [
    {
     "data": {
      "text/plain": [
       "Timestamp('2024-04-30 23:53:14')"
      ]
     },
     "execution_count": 14,
     "metadata": {},
     "output_type": "execute_result"
    }
   ],
   "source": [
    "df['started_at'].max()"
   ]
  },
  {
   "cell_type": "code",
   "execution_count": 15,
   "metadata": {},
   "outputs": [
    {
     "data": {
      "text/plain": [
       "array([ True,  True,  True,  True,  True,  True,  True,  True,  True,\n",
       "        True,  True,  True,  True])"
      ]
     },
     "execution_count": 15,
     "metadata": {},
     "output_type": "execute_result"
    }
   ],
   "source": [
    "df.columns == df_feb.columns"
   ]
  },
  {
   "cell_type": "code",
   "execution_count": 16,
   "metadata": {},
   "outputs": [
    {
     "name": "stdout",
     "output_type": "stream",
     "text": [
      "<class 'pandas.core.frame.DataFrame'>\n",
      "RangeIndex: 200310 entries, 0 to 200309\n",
      "Data columns (total 13 columns):\n",
      " #   Column              Non-Null Count   Dtype         \n",
      "---  ------              --------------   -----         \n",
      " 0   ride_id             200310 non-null  object        \n",
      " 1   rideable_type       200310 non-null  object        \n",
      " 2   started_at          200310 non-null  datetime64[ns]\n",
      " 3   ended_at            200310 non-null  object        \n",
      " 4   start_station_name  200211 non-null  object        \n",
      " 5   start_station_id    200211 non-null  object        \n",
      " 6   end_station_name    199756 non-null  object        \n",
      " 7   end_station_id      199727 non-null  object        \n",
      " 8   start_lat           200310 non-null  float64       \n",
      " 9   start_lng           200310 non-null  float64       \n",
      " 10  end_lat             200256 non-null  float64       \n",
      " 11  end_lng             200256 non-null  float64       \n",
      " 12  member_casual       200310 non-null  object        \n",
      "dtypes: datetime64[ns](1), float64(4), object(8)\n",
      "memory usage: 19.9+ MB\n"
     ]
    }
   ],
   "source": [
    "df.info()"
   ]
  },
  {
   "cell_type": "code",
   "execution_count": 17,
   "metadata": {},
   "outputs": [],
   "source": [
    "df['ended_at'] = pd.to_datetime(df['ended_at'])"
   ]
  },
  {
   "cell_type": "code",
   "execution_count": 18,
   "metadata": {},
   "outputs": [
    {
     "name": "stdout",
     "output_type": "stream",
     "text": [
      "<class 'pandas.core.frame.DataFrame'>\n",
      "RangeIndex: 200310 entries, 0 to 200309\n",
      "Data columns (total 13 columns):\n",
      " #   Column              Non-Null Count   Dtype         \n",
      "---  ------              --------------   -----         \n",
      " 0   ride_id             200310 non-null  object        \n",
      " 1   rideable_type       200310 non-null  object        \n",
      " 2   started_at          200310 non-null  datetime64[ns]\n",
      " 3   ended_at            200310 non-null  datetime64[ns]\n",
      " 4   start_station_name  200211 non-null  object        \n",
      " 5   start_station_id    200211 non-null  object        \n",
      " 6   end_station_name    199756 non-null  object        \n",
      " 7   end_station_id      199727 non-null  object        \n",
      " 8   start_lat           200310 non-null  float64       \n",
      " 9   start_lng           200310 non-null  float64       \n",
      " 10  end_lat             200256 non-null  float64       \n",
      " 11  end_lng             200256 non-null  float64       \n",
      " 12  member_casual       200310 non-null  object        \n",
      "dtypes: datetime64[ns](2), float64(4), object(7)\n",
      "memory usage: 19.9+ MB\n"
     ]
    }
   ],
   "source": [
    "df.info()"
   ]
  },
  {
   "cell_type": "code",
   "execution_count": 19,
   "metadata": {},
   "outputs": [
    {
     "data": {
      "text/plain": [
       "0"
      ]
     },
     "execution_count": 19,
     "metadata": {},
     "output_type": "execute_result"
    }
   ],
   "source": [
    "df.ride_id.duplicated().sum()"
   ]
  },
  {
   "cell_type": "code",
   "execution_count": 20,
   "metadata": {},
   "outputs": [],
   "source": [
    "df['started_at_hr'] = df['started_at'].dt.hour"
   ]
  },
  {
   "cell_type": "code",
   "execution_count": 21,
   "metadata": {},
   "outputs": [
    {
     "data": {
      "text/html": [
       "<div>\n",
       "<style scoped>\n",
       "    .dataframe tbody tr th:only-of-type {\n",
       "        vertical-align: middle;\n",
       "    }\n",
       "\n",
       "    .dataframe tbody tr th {\n",
       "        vertical-align: top;\n",
       "    }\n",
       "\n",
       "    .dataframe thead th {\n",
       "        text-align: right;\n",
       "    }\n",
       "</style>\n",
       "<table border=\"1\" class=\"dataframe\">\n",
       "  <thead>\n",
       "    <tr style=\"text-align: right;\">\n",
       "      <th></th>\n",
       "      <th>ride_id</th>\n",
       "      <th>rideable_type</th>\n",
       "      <th>started_at</th>\n",
       "      <th>ended_at</th>\n",
       "      <th>start_station_name</th>\n",
       "      <th>start_station_id</th>\n",
       "      <th>end_station_name</th>\n",
       "      <th>end_station_id</th>\n",
       "      <th>start_lat</th>\n",
       "      <th>start_lng</th>\n",
       "      <th>end_lat</th>\n",
       "      <th>end_lng</th>\n",
       "      <th>member_casual</th>\n",
       "      <th>started_at_hr</th>\n",
       "    </tr>\n",
       "  </thead>\n",
       "  <tbody>\n",
       "    <tr>\n",
       "      <th>0</th>\n",
       "      <td>A841EF9C3617E47B</td>\n",
       "      <td>electric_bike</td>\n",
       "      <td>2024-02-12 16:17:19</td>\n",
       "      <td>2024-02-12 16:23:24</td>\n",
       "      <td>Adams St &amp; 2 St</td>\n",
       "      <td>HB407</td>\n",
       "      <td>Stevens - River Ter &amp; 6 St</td>\n",
       "      <td>HB602</td>\n",
       "      <td>40.739701</td>\n",
       "      <td>-74.036831</td>\n",
       "      <td>40.743133</td>\n",
       "      <td>-74.026989</td>\n",
       "      <td>casual</td>\n",
       "      <td>16</td>\n",
       "    </tr>\n",
       "    <tr>\n",
       "      <th>1</th>\n",
       "      <td>514881A61CAD0A93</td>\n",
       "      <td>electric_bike</td>\n",
       "      <td>2024-02-04 15:04:16</td>\n",
       "      <td>2024-02-04 15:40:14</td>\n",
       "      <td>Adams St &amp; 2 St</td>\n",
       "      <td>HB407</td>\n",
       "      <td>Stevens - River Ter &amp; 6 St</td>\n",
       "      <td>HB602</td>\n",
       "      <td>40.739741</td>\n",
       "      <td>-74.036824</td>\n",
       "      <td>40.743133</td>\n",
       "      <td>-74.026989</td>\n",
       "      <td>casual</td>\n",
       "      <td>15</td>\n",
       "    </tr>\n",
       "    <tr>\n",
       "      <th>2</th>\n",
       "      <td>511F37086CCC4510</td>\n",
       "      <td>electric_bike</td>\n",
       "      <td>2024-02-16 16:23:16</td>\n",
       "      <td>2024-02-16 16:27:16</td>\n",
       "      <td>Clinton St &amp; Newark St</td>\n",
       "      <td>HB409</td>\n",
       "      <td>Stevens - River Ter &amp; 6 St</td>\n",
       "      <td>HB602</td>\n",
       "      <td>40.737508</td>\n",
       "      <td>-74.035715</td>\n",
       "      <td>40.743133</td>\n",
       "      <td>-74.026989</td>\n",
       "      <td>casual</td>\n",
       "      <td>16</td>\n",
       "    </tr>\n",
       "    <tr>\n",
       "      <th>3</th>\n",
       "      <td>27A2AA8BDD0D1F6E</td>\n",
       "      <td>classic_bike</td>\n",
       "      <td>2024-02-25 17:05:01</td>\n",
       "      <td>2024-02-25 17:10:53</td>\n",
       "      <td>Adams St &amp; 2 St</td>\n",
       "      <td>HB407</td>\n",
       "      <td>Stevens - River Ter &amp; 6 St</td>\n",
       "      <td>HB602</td>\n",
       "      <td>40.739814</td>\n",
       "      <td>-74.036904</td>\n",
       "      <td>40.743133</td>\n",
       "      <td>-74.026989</td>\n",
       "      <td>member</td>\n",
       "      <td>17</td>\n",
       "    </tr>\n",
       "    <tr>\n",
       "      <th>4</th>\n",
       "      <td>2808ABEC0903C18E</td>\n",
       "      <td>electric_bike</td>\n",
       "      <td>2024-02-29 15:21:15</td>\n",
       "      <td>2024-02-29 15:26:03</td>\n",
       "      <td>Adams St &amp; 2 St</td>\n",
       "      <td>HB407</td>\n",
       "      <td>Stevens - River Ter &amp; 6 St</td>\n",
       "      <td>HB602</td>\n",
       "      <td>40.739712</td>\n",
       "      <td>-74.036858</td>\n",
       "      <td>40.743133</td>\n",
       "      <td>-74.026989</td>\n",
       "      <td>member</td>\n",
       "      <td>15</td>\n",
       "    </tr>\n",
       "  </tbody>\n",
       "</table>\n",
       "</div>"
      ],
      "text/plain": [
       "            ride_id  rideable_type          started_at            ended_at  \\\n",
       "0  A841EF9C3617E47B  electric_bike 2024-02-12 16:17:19 2024-02-12 16:23:24   \n",
       "1  514881A61CAD0A93  electric_bike 2024-02-04 15:04:16 2024-02-04 15:40:14   \n",
       "2  511F37086CCC4510  electric_bike 2024-02-16 16:23:16 2024-02-16 16:27:16   \n",
       "3  27A2AA8BDD0D1F6E   classic_bike 2024-02-25 17:05:01 2024-02-25 17:10:53   \n",
       "4  2808ABEC0903C18E  electric_bike 2024-02-29 15:21:15 2024-02-29 15:26:03   \n",
       "\n",
       "       start_station_name start_station_id            end_station_name  \\\n",
       "0         Adams St & 2 St            HB407  Stevens - River Ter & 6 St   \n",
       "1         Adams St & 2 St            HB407  Stevens - River Ter & 6 St   \n",
       "2  Clinton St & Newark St            HB409  Stevens - River Ter & 6 St   \n",
       "3         Adams St & 2 St            HB407  Stevens - River Ter & 6 St   \n",
       "4         Adams St & 2 St            HB407  Stevens - River Ter & 6 St   \n",
       "\n",
       "  end_station_id  start_lat  start_lng    end_lat    end_lng member_casual  \\\n",
       "0          HB602  40.739701 -74.036831  40.743133 -74.026989        casual   \n",
       "1          HB602  40.739741 -74.036824  40.743133 -74.026989        casual   \n",
       "2          HB602  40.737508 -74.035715  40.743133 -74.026989        casual   \n",
       "3          HB602  40.739814 -74.036904  40.743133 -74.026989        member   \n",
       "4          HB602  40.739712 -74.036858  40.743133 -74.026989        member   \n",
       "\n",
       "   started_at_hr  \n",
       "0             16  \n",
       "1             15  \n",
       "2             16  \n",
       "3             17  \n",
       "4             15  "
      ]
     },
     "execution_count": 21,
     "metadata": {},
     "output_type": "execute_result"
    }
   ],
   "source": [
    "df.head()"
   ]
  },
  {
   "cell_type": "code",
   "execution_count": 22,
   "metadata": {},
   "outputs": [
    {
     "data": {
      "text/plain": [
       "member_casual\n",
       "casual     41601\n",
       "member    158709\n",
       "Name: count, dtype: int64"
      ]
     },
     "execution_count": 22,
     "metadata": {},
     "output_type": "execute_result"
    }
   ],
   "source": [
    "df.groupby('member_casual')['rideable_type'].value_counts().reset_index().groupby('member_casual')['count'].sum()"
   ]
  },
  {
   "cell_type": "code",
   "execution_count": 23,
   "metadata": {},
   "outputs": [],
   "source": [
    "df.to_csv('datasets/transformed_data.csv', index=False)"
   ]
  },
  {
   "cell_type": "code",
   "execution_count": null,
   "metadata": {},
   "outputs": [],
   "source": []
  }
 ],
 "metadata": {
  "kernelspec": {
   "display_name": "base",
   "language": "python",
   "name": "python3"
  },
  "language_info": {
   "codemirror_mode": {
    "name": "ipython",
    "version": 3
   },
   "file_extension": ".py",
   "mimetype": "text/x-python",
   "name": "python",
   "nbconvert_exporter": "python",
   "pygments_lexer": "ipython3",
   "version": "3.11.7"
  }
 },
 "nbformat": 4,
 "nbformat_minor": 2
}
